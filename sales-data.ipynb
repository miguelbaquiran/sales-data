{
 "cells": [
  {
   "cell_type": "code",
   "execution_count": 12,
   "id": "169a60da",
   "metadata": {},
   "outputs": [],
   "source": [
    "import pandas as pd\n",
    "\n",
    "df = pd.read_csv(\"fct_invoice.csv\")\n",
    "jsondf = pd.read_json('dim_customer.json')"
   ]
  },
  {
   "cell_type": "code",
   "execution_count": 13,
   "id": "b16621f5",
   "metadata": {},
   "outputs": [
    {
     "data": {
      "text/html": [
       "<div>\n",
       "<style scoped>\n",
       "    .dataframe tbody tr th:only-of-type {\n",
       "        vertical-align: middle;\n",
       "    }\n",
       "\n",
       "    .dataframe tbody tr th {\n",
       "        vertical-align: top;\n",
       "    }\n",
       "\n",
       "    .dataframe thead th {\n",
       "        text-align: right;\n",
       "    }\n",
       "</style>\n",
       "<table border=\"1\" class=\"dataframe\">\n",
       "  <thead>\n",
       "    <tr style=\"text-align: right;\">\n",
       "      <th></th>\n",
       "      <th>invoice_no</th>\n",
       "      <th>customer_id</th>\n",
       "      <th>category</th>\n",
       "      <th>quantity</th>\n",
       "      <th>price</th>\n",
       "      <th>payment_method</th>\n",
       "      <th>invoice_date</th>\n",
       "      <th>shopping_mall</th>\n",
       "    </tr>\n",
       "  </thead>\n",
       "  <tbody>\n",
       "    <tr>\n",
       "      <th>0</th>\n",
       "      <td>I138884</td>\n",
       "      <td>229</td>\n",
       "      <td>Clothing</td>\n",
       "      <td>5</td>\n",
       "      <td>1500.40</td>\n",
       "      <td>Credit Card</td>\n",
       "      <td>5/8/2022</td>\n",
       "      <td>Kanyon</td>\n",
       "    </tr>\n",
       "    <tr>\n",
       "      <th>1</th>\n",
       "      <td>I317333</td>\n",
       "      <td>3433</td>\n",
       "      <td>Shoes</td>\n",
       "      <td>3</td>\n",
       "      <td>1800.51</td>\n",
       "      <td>Debit Card</td>\n",
       "      <td>12/12/2021</td>\n",
       "      <td>Forum Istanbul</td>\n",
       "    </tr>\n",
       "    <tr>\n",
       "      <th>2</th>\n",
       "      <td>I127801</td>\n",
       "      <td>644</td>\n",
       "      <td>Clothing</td>\n",
       "      <td>1</td>\n",
       "      <td>300.08</td>\n",
       "      <td>Cash</td>\n",
       "      <td>9/11/2021</td>\n",
       "      <td>Metrocity</td>\n",
       "    </tr>\n",
       "    <tr>\n",
       "      <th>3</th>\n",
       "      <td>I173702</td>\n",
       "      <td>4900</td>\n",
       "      <td>Shoes</td>\n",
       "      <td>5</td>\n",
       "      <td>3000.85</td>\n",
       "      <td>Credit Card</td>\n",
       "      <td>16/05/2021</td>\n",
       "      <td>Metropol AVM</td>\n",
       "    </tr>\n",
       "    <tr>\n",
       "      <th>4</th>\n",
       "      <td>I337046</td>\n",
       "      <td>1089</td>\n",
       "      <td>Books</td>\n",
       "      <td>4</td>\n",
       "      <td>60.60</td>\n",
       "      <td>Cash</td>\n",
       "      <td>24/10/2021</td>\n",
       "      <td>Kanyon</td>\n",
       "    </tr>\n",
       "  </tbody>\n",
       "</table>\n",
       "</div>"
      ],
      "text/plain": [
       "  invoice_no  customer_id  category  quantity    price payment_method  \\\n",
       "0    I138884          229  Clothing         5  1500.40    Credit Card   \n",
       "1    I317333         3433     Shoes         3  1800.51     Debit Card   \n",
       "2    I127801          644  Clothing         1   300.08           Cash   \n",
       "3    I173702         4900     Shoes         5  3000.85    Credit Card   \n",
       "4    I337046         1089     Books         4    60.60           Cash   \n",
       "\n",
       "  invoice_date   shopping_mall  \n",
       "0     5/8/2022          Kanyon  \n",
       "1   12/12/2021  Forum Istanbul  \n",
       "2    9/11/2021       Metrocity  \n",
       "3   16/05/2021    Metropol AVM  \n",
       "4   24/10/2021          Kanyon  "
      ]
     },
     "execution_count": 13,
     "metadata": {},
     "output_type": "execute_result"
    }
   ],
   "source": [
    "df.head()"
   ]
  },
  {
   "cell_type": "code",
   "execution_count": 14,
   "id": "620c3e21",
   "metadata": {},
   "outputs": [
    {
     "data": {
      "text/html": [
       "<div>\n",
       "<style scoped>\n",
       "    .dataframe tbody tr th:only-of-type {\n",
       "        vertical-align: middle;\n",
       "    }\n",
       "\n",
       "    .dataframe tbody tr th {\n",
       "        vertical-align: top;\n",
       "    }\n",
       "\n",
       "    .dataframe thead th {\n",
       "        text-align: right;\n",
       "    }\n",
       "</style>\n",
       "<table border=\"1\" class=\"dataframe\">\n",
       "  <thead>\n",
       "    <tr style=\"text-align: right;\">\n",
       "      <th></th>\n",
       "      <th>age</th>\n",
       "      <th>first_name</th>\n",
       "      <th>gender</th>\n",
       "      <th>id</th>\n",
       "      <th>last_name</th>\n",
       "    </tr>\n",
       "  </thead>\n",
       "  <tbody>\n",
       "    <tr>\n",
       "      <th>0</th>\n",
       "      <td>48.0</td>\n",
       "      <td>Nicholas</td>\n",
       "      <td>M</td>\n",
       "      <td>0</td>\n",
       "      <td>Flores</td>\n",
       "    </tr>\n",
       "    <tr>\n",
       "      <th>1</th>\n",
       "      <td>NaN</td>\n",
       "      <td>Jeffery</td>\n",
       "      <td>M</td>\n",
       "      <td>1</td>\n",
       "      <td>Rowe</td>\n",
       "    </tr>\n",
       "    <tr>\n",
       "      <th>2</th>\n",
       "      <td>57.0</td>\n",
       "      <td>Alexis</td>\n",
       "      <td>F</td>\n",
       "      <td>2</td>\n",
       "      <td>Benton</td>\n",
       "    </tr>\n",
       "    <tr>\n",
       "      <th>3</th>\n",
       "      <td>73.0</td>\n",
       "      <td>Amy</td>\n",
       "      <td>F</td>\n",
       "      <td>3</td>\n",
       "      <td>Johnson</td>\n",
       "    </tr>\n",
       "    <tr>\n",
       "      <th>4</th>\n",
       "      <td>20.0</td>\n",
       "      <td>David</td>\n",
       "      <td>M</td>\n",
       "      <td>4</td>\n",
       "      <td>Moore</td>\n",
       "    </tr>\n",
       "  </tbody>\n",
       "</table>\n",
       "</div>"
      ],
      "text/plain": [
       "    age first_name gender  id last_name\n",
       "0  48.0   Nicholas      M   0    Flores\n",
       "1   NaN    Jeffery      M   1      Rowe\n",
       "2  57.0     Alexis      F   2    Benton\n",
       "3  73.0        Amy      F   3   Johnson\n",
       "4  20.0      David      M   4     Moore"
      ]
     },
     "execution_count": 14,
     "metadata": {},
     "output_type": "execute_result"
    }
   ],
   "source": [
    "jsondf.head()"
   ]
  },
  {
   "cell_type": "markdown",
   "id": "f025a7b1",
   "metadata": {},
   "source": [
    "# Easy"
   ]
  },
  {
   "cell_type": "code",
   "execution_count": 15,
   "id": "2dcc9af4",
   "metadata": {},
   "outputs": [
    {
     "name": "stdout",
     "output_type": "stream",
     "text": [
      "Unique Customers:  5191\n"
     ]
    }
   ],
   "source": [
    "#1. How many unique customers are in the dataset?\n",
    "\n",
    "unique_customers = df['customer_id'].nunique()\n",
    "\n",
    "print(\"Unique Customers: \", unique_customers)"
   ]
  },
  {
   "cell_type": "code",
   "execution_count": 16,
   "id": "18b593ed",
   "metadata": {},
   "outputs": [
    {
     "name": "stdout",
     "output_type": "stream",
     "text": [
      "Categories:  Clothing, Shoes, Books, Cosmetics, Food & Beverage, Toys, Technology, Souvenir\n",
      "Amount of Unique Categories:  8\n"
     ]
    }
   ],
   "source": [
    "#2. What are the different categories of products available? How many unique categories are there?\n",
    "\n",
    "unique_categories_list = df['category'].unique()\n",
    "unique_categories_string = \", \".join(unique_categories_list)\n",
    "\n",
    "print(\"Categories: \", unique_categories_string)\n",
    "\n",
    "amount_unique_categories = df['category'].nunique()\n",
    "\n",
    "print(\"Amount of Unique Categories: \", amount_unique_categories)"
   ]
  },
  {
   "cell_type": "code",
   "execution_count": 17,
   "id": "2c6ff427",
   "metadata": {},
   "outputs": [
    {
     "name": "stdout",
     "output_type": "stream",
     "text": [
      "Most Popular Payment Method: Cash\n",
      "Number of Times Used: 44447\n"
     ]
    }
   ],
   "source": [
    "#3. Which payment method is the most popular? How many times was it used?\n",
    "\n",
    "payment_counts = df['payment_method'].value_counts()\n",
    "\n",
    "most_popular_payment = payment_counts.idxmax()\n",
    "count = payment_counts.max()\n",
    "\n",
    "print(\"Most Popular Payment Method:\", most_popular_payment)\n",
    "print(\"Number of Times Used:\", count)"
   ]
  },
  {
   "cell_type": "markdown",
   "id": "4a366b47",
   "metadata": {},
   "source": [
    "# Medium"
   ]
  },
  {
   "cell_type": "code",
   "execution_count": 18,
   "id": "b856f9c1",
   "metadata": {},
   "outputs": [
    {
     "name": "stdout",
     "output_type": "stream",
     "text": [
      "1 : Clothing ( 113996791.03999999 )\n",
      "2 : Shoes ( 66553451.47 )\n",
      "3 : Technology ( 57862350.0 )\n"
     ]
    }
   ],
   "source": [
    "# 1. What are the three most popular categories, by total sales?\n",
    "\n",
    "df['total_sales'] = df['quantity'] * df['price']\n",
    "\n",
    "\n",
    "category_sales = df.groupby('category')['total_sales'].sum()\n",
    "\n",
    "category_sales_sorted = category_sales.sort_values(ascending=False)\n",
    "\n",
    "top_three_categories = category_sales_sorted.head(3)\n",
    "\n",
    "top_three_categories_list = top_three_categories.index.tolist()\n",
    "\n",
    "\n",
    "top_three_sums_list = top_three_categories.values.tolist()\n",
    "\n",
    "\n",
    "counter = 1\n",
    "\n",
    "for item in top_three_categories_list:\n",
    "    \n",
    "    print(counter, \":\", item, \"(\", top_three_sums_list[counter-1], \")\" )\n",
    "    counter += 1"
   ]
  },
  {
   "cell_type": "code",
   "execution_count": 19,
   "id": "6db8c8e5",
   "metadata": {},
   "outputs": [
    {
     "name": "stdout",
     "output_type": "stream",
     "text": [
      "Total Sales: 82039768.15\n"
     ]
    }
   ],
   "source": [
    "# 2. What are the total sales attributed to customers over the age of 45?\n",
    "\n",
    "jsondf.rename(columns={'id': 'customer_id'}, inplace=True)\n",
    "\n",
    "merged_df = pd.merge(df, jsondf, on='customer_id')\n",
    "\n",
    "filtered_df = merged_df[merged_df['age'] > 45]\n",
    "\n",
    "total_sales_45 = filtered_df['total_sales'].sum()\n",
    "\n",
    "print(\"Total Sales:\", total_sales_45)"
   ]
  },
  {
   "cell_type": "code",
   "execution_count": 20,
   "id": "3b229e2c",
   "metadata": {},
   "outputs": [
    {
     "name": "stderr",
     "output_type": "stream",
     "text": [
      "C:\\Users\\Miguel Baquiran\\AppData\\Local\\Temp\\ipykernel_16956\\1759262258.py:8: UserWarning: Parsing dates in DD/MM/YYYY format when dayfirst=False (the default) was specified. This may lead to inconsistently parsed dates! Specify a format to ensure consistent parsing.\n",
      "  dfduplicate['invoice_date'] = pd.to_datetime(dfduplicate['invoice_date'])\n"
     ]
    }
   ],
   "source": [
    "# 3. How is the data distributed across different invoice dates? Are there any seasonal trends or patterns?\n",
    "\n",
    "\n",
    "import matplotlib.pyplot as plt\n",
    "\n",
    "dfduplicate = df.copy()\n",
    "\n",
    "dfduplicate['invoice_date'] = pd.to_datetime(dfduplicate['invoice_date'])\n",
    "\n",
    "# Extract month and year into separate columns\n",
    "dfduplicate['month'] = dfduplicate['invoice_date'].dt.month\n",
    "dfduplicate['year'] = dfduplicate['invoice_date'].dt.year"
   ]
  },
  {
   "cell_type": "code",
   "execution_count": 21,
   "id": "f3d22382",
   "metadata": {},
   "outputs": [
    {
     "data": {
      "image/png": "[encoded data removed]",
      "text/plain": [
       "<Figure size 640x480 with 1 Axes>"
      ]
     },
     "metadata": {},
     "output_type": "display_data"
    }
   ],
   "source": [
    "monthly_sales = dfduplicate.groupby(['year', 'month'])['total_sales'].sum()\n",
    "\n",
    "# Create a separate line plot for each year\n",
    "for year in dfduplicate['year'].unique():\n",
    "    sales_year = monthly_sales[year]  # Filter data for the current year\n",
    "    plt.plot(sales_year.index.get_level_values('month'), sales_year.values, label=year)\n",
    "\n",
    "# Set plot title and labels\n",
    "plt.title('Total Sales per Month')\n",
    "plt.xlabel('Month')\n",
    "plt.ylabel('Total Sales')\n",
    "\n",
    "# Add a legend to distinguish the lines by year\n",
    "plt.legend()\n",
    "\n",
    "# Display the plot\n",
    "plt.show()\n"
   ]
  },
  {
   "cell_type": "markdown",
   "id": "f6b8e7e8",
   "metadata": {},
   "source": [
    "# Hard"
   ]
  },
  {
   "cell_type": "code",
   "execution_count": 22,
   "id": "5c8226be",
   "metadata": {},
   "outputs": [
    {
     "data": {
      "text/html": [
       "<div>\n",
       "<style scoped>\n",
       "    .dataframe tbody tr th:only-of-type {\n",
       "        vertical-align: middle;\n",
       "    }\n",
       "\n",
       "    .dataframe tbody tr th {\n",
       "        vertical-align: top;\n",
       "    }\n",
       "\n",
       "    .dataframe thead th {\n",
       "        text-align: right;\n",
       "    }\n",
       "</style>\n",
       "<table border=\"1\" class=\"dataframe\">\n",
       "  <thead>\n",
       "    <tr style=\"text-align: right;\">\n",
       "      <th>Age Range</th>\n",
       "      <th>10-19</th>\n",
       "      <th>20-29</th>\n",
       "      <th>30-39</th>\n",
       "      <th>40-49</th>\n",
       "      <th>50-59</th>\n",
       "      <th>60-69</th>\n",
       "      <th>70-79</th>\n",
       "      <th>80-89</th>\n",
       "    </tr>\n",
       "    <tr>\n",
       "      <th>category</th>\n",
       "      <th></th>\n",
       "      <th></th>\n",
       "      <th></th>\n",
       "      <th></th>\n",
       "      <th></th>\n",
       "      <th></th>\n",
       "      <th></th>\n",
       "      <th></th>\n",
       "    </tr>\n",
       "  </thead>\n",
       "  <tbody>\n",
       "    <tr>\n",
       "      <th>Books</th>\n",
       "      <td>19891.95</td>\n",
       "      <td>80128.35</td>\n",
       "      <td>84446.10</td>\n",
       "      <td>82946.25</td>\n",
       "      <td>79537.50</td>\n",
       "      <td>76234.80</td>\n",
       "      <td>56251.95</td>\n",
       "      <td>21103.95</td>\n",
       "    </tr>\n",
       "    <tr>\n",
       "      <th>Clothing</th>\n",
       "      <td>3029007.52</td>\n",
       "      <td>10079987.28</td>\n",
       "      <td>11516170.16</td>\n",
       "      <td>10933114.72</td>\n",
       "      <td>10819684.48</td>\n",
       "      <td>10004067.04</td>\n",
       "      <td>7871098.40</td>\n",
       "      <td>3739897.04</td>\n",
       "    </tr>\n",
       "    <tr>\n",
       "      <th>Cosmetics</th>\n",
       "      <td>178009.48</td>\n",
       "      <td>594733.82</td>\n",
       "      <td>722406.22</td>\n",
       "      <td>656740.32</td>\n",
       "      <td>621366.12</td>\n",
       "      <td>599735.00</td>\n",
       "      <td>427824.52</td>\n",
       "      <td>214684.80</td>\n",
       "    </tr>\n",
       "    <tr>\n",
       "      <th>Food &amp; Beverage</th>\n",
       "      <td>20433.61</td>\n",
       "      <td>74271.23</td>\n",
       "      <td>89187.19</td>\n",
       "      <td>85034.57</td>\n",
       "      <td>77686.42</td>\n",
       "      <td>76127.88</td>\n",
       "      <td>55584.44</td>\n",
       "      <td>25334.12</td>\n",
       "    </tr>\n",
       "    <tr>\n",
       "      <th>Shoes</th>\n",
       "      <td>1367187.26</td>\n",
       "      <td>6152942.84</td>\n",
       "      <td>7178633.37</td>\n",
       "      <td>6775319.13</td>\n",
       "      <td>6268175.48</td>\n",
       "      <td>5499357.71</td>\n",
       "      <td>4718536.54</td>\n",
       "      <td>2125201.97</td>\n",
       "    </tr>\n",
       "    <tr>\n",
       "      <th>Souvenir</th>\n",
       "      <td>20128.68</td>\n",
       "      <td>53570.91</td>\n",
       "      <td>63705.63</td>\n",
       "      <td>65007.66</td>\n",
       "      <td>57594.30</td>\n",
       "      <td>51482.97</td>\n",
       "      <td>38439.21</td>\n",
       "      <td>20234.25</td>\n",
       "    </tr>\n",
       "    <tr>\n",
       "      <th>Technology</th>\n",
       "      <td>1772400.00</td>\n",
       "      <td>5049450.00</td>\n",
       "      <td>6231750.00</td>\n",
       "      <td>5840100.00</td>\n",
       "      <td>4662000.00</td>\n",
       "      <td>5218500.00</td>\n",
       "      <td>3773700.00</td>\n",
       "      <td>1449000.00</td>\n",
       "    </tr>\n",
       "    <tr>\n",
       "      <th>Toys</th>\n",
       "      <td>98273.28</td>\n",
       "      <td>380011.52</td>\n",
       "      <td>426460.16</td>\n",
       "      <td>378864.64</td>\n",
       "      <td>357002.24</td>\n",
       "      <td>340659.20</td>\n",
       "      <td>285608.96</td>\n",
       "      <td>126336.00</td>\n",
       "    </tr>\n",
       "  </tbody>\n",
       "</table>\n",
       "</div>"
      ],
      "text/plain": [
       "Age Range             10-19        20-29        30-39        40-49  \\\n",
       "category                                                             \n",
       "Books              19891.95     80128.35     84446.10     82946.25   \n",
       "Clothing         3029007.52  10079987.28  11516170.16  10933114.72   \n",
       "Cosmetics         178009.48    594733.82    722406.22    656740.32   \n",
       "Food & Beverage    20433.61     74271.23     89187.19     85034.57   \n",
       "Shoes            1367187.26   6152942.84   7178633.37   6775319.13   \n",
       "Souvenir           20128.68     53570.91     63705.63     65007.66   \n",
       "Technology       1772400.00   5049450.00   6231750.00   5840100.00   \n",
       "Toys               98273.28    380011.52    426460.16    378864.64   \n",
       "\n",
       "Age Range              50-59        60-69       70-79       80-89  \n",
       "category                                                           \n",
       "Books               79537.50     76234.80    56251.95    21103.95  \n",
       "Clothing         10819684.48  10004067.04  7871098.40  3739897.04  \n",
       "Cosmetics          621366.12    599735.00   427824.52   214684.80  \n",
       "Food & Beverage     77686.42     76127.88    55584.44    25334.12  \n",
       "Shoes             6268175.48   5499357.71  4718536.54  2125201.97  \n",
       "Souvenir            57594.30     51482.97    38439.21    20234.25  \n",
       "Technology        4662000.00   5218500.00  3773700.00  1449000.00  \n",
       "Toys               357002.24    340659.20   285608.96   126336.00  "
      ]
     },
     "execution_count": 22,
     "metadata": {},
     "output_type": "execute_result"
    }
   ],
   "source": [
    "# 1. Create a pivot table showing the breakdown of sales across these dimensions, in this order: category, decade age range (e.g., 10-19, 20-29, and so forth).\n",
    "\n",
    "\n",
    "merged_df_duplicate = merged_df.copy()\n",
    "\n",
    "age_ranges = [10, 20, 30, 40, 50, 60, 70, 80, 90]\n",
    "\n",
    "merged_df_duplicate['Age Range'] = pd.cut(merged_df_duplicate['age'], bins=age_ranges, labels=[f\"{r}-{r+9}\" for r in age_ranges[:-1]])\n",
    "\n",
    "pivot_table = pd.pivot_table(merged_df_duplicate, values='total_sales', index='category', columns='Age Range', aggfunc='sum')\n",
    "\n",
    "pivot_table"
   ]
  }
 ],
 "metadata": {
  "kernelspec": {
   "display_name": "Python 3 (ipykernel)",
   "language": "python",
   "name": "python3"
  },
  "language_info": {
   "codemirror_mode": {
    "name": "ipython",
    "version": 3
   },
   "file_extension": ".py",
   "mimetype": "text/x-python",
   "name": "python",
   "nbconvert_exporter": "python",
   "pygments_lexer": "ipython3",
   "version": "3.10.9"
  }
 },
 "nbformat": 4,
 "nbformat_minor": 5
}
